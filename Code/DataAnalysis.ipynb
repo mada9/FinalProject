{
 "cells": [
  {
   "cell_type": "code",
   "execution_count": 1,
   "id": "fd29b9e2-05fc-42c3-87e5-3e52bd27e386",
   "metadata": {},
   "outputs": [],
   "source": [
    "import fsps\n",
    "import dynesty\n",
    "import sedpy\n",
    "import h5py, astropy\n",
    "import numpy as np\n",
    "import astroquery"
   ]
  },
  {
   "cell_type": "code",
   "execution_count": null,
   "id": "d7e78c56-1e33-4b01-982a-3662ddecdbe5",
   "metadata": {},
   "outputs": [],
   "source": []
  }
 ],
 "metadata": {
  "kernelspec": {
   "display_name": "Python 3 (ipykernel)",
   "language": "python",
   "name": "python3"
  },
  "language_info": {
   "codemirror_mode": {
    "name": "ipython",
    "version": 3
   },
   "file_extension": ".py",
   "mimetype": "text/x-python",
   "name": "python",
   "nbconvert_exporter": "python",
   "pygments_lexer": "ipython3",
   "version": "3.10.0"
  }
 },
 "nbformat": 4,
 "nbformat_minor": 5
}
