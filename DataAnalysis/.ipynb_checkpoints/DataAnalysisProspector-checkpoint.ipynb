{
 "cells": [
  {
   "cell_type": "code",
   "execution_count": 1,
   "id": "8fbbf543-3fe7-4fe8-a5fe-ff7eec8026cb",
   "metadata": {},
   "outputs": [],
   "source": [
    "import fsps\n",
    "import dynesty\n",
    "import sedpy\n",
    "import h5py, astropy\n",
    "import numpy as np\n",
    "import astroquery\n",
    "import emcee"
   ]
  },
  {
   "cell_type": "code",
   "execution_count": 2,
   "id": "ecf532a7-e590-4c97-9424-63eca12c0970",
   "metadata": {},
   "outputs": [
    {
     "name": "stderr",
     "output_type": "stream",
     "text": [
      "/home/adam/anaconda3/envs/prospector/lib/python3.10/site-packages/astroquery/sdss/core.py:874: VisibleDeprecationWarning: Reading unicode strings without specifying the encoding argument is deprecated. Set the encoding, use None for the system default.\n",
      "  arr = np.atleast_1d(np.genfromtxt(io.BytesIO(response.content),\n"
     ]
    }
   ],
   "source": [
    "from astroquery.sdss import SDSS\n",
    "from astropy.coordinates import SkyCoord\n",
    "bands = \"ugriz\"\n",
    "mcol = [f\"cModelMag_{b}\" for b in bands]\n",
    "ecol = [f\"cModelMagErr_{b}\" for b in bands]\n",
    "pos=(189.183288812633, 14.6450833)\n",
    "cat = SDSS.query_crossid(SkyCoord(ra=189.183288812633, dec=14.6450833, unit=\"deg\"),\n",
    "                         data_release=16,\n",
    "                         photoobj_fields=mcol + ecol + [\"specObjID\"])\n",
    "\n",
    "shdus = SDSS.get_spectra(plate=1769, mjd=53502, fiberID=273)[0]\n",
    "\n",
    "assert int(shdus[2].data[\"SpecObjID\"][0]) == cat[0][\"specObjID\"]"
   ]
  },
  {
   "cell_type": "code",
   "execution_count": 3,
   "id": "4019c2e1-83ea-4495-a684-c8887b93d038",
   "metadata": {},
   "outputs": [
    {
     "data": {
      "text/html": [
       "<div><i>Table length=1</i>\n",
       "<table id=\"table139872042999648\" class=\"table-striped table-bordered table-condensed\">\n",
       "<thead><tr><th>obj_id</th><th>objID</th><th>cModelMag_u</th><th>cModelMag_g</th><th>cModelMag_r</th><th>cModelMag_i</th><th>cModelMag_z</th><th>cModelMagErr_u</th><th>cModelMagErr_g</th><th>cModelMagErr_r</th><th>cModelMagErr_i</th><th>cModelMagErr_z</th><th>specObjID</th><th>obj_id1</th><th>type</th></tr></thead>\n",
       "<thead><tr><th>bytes5</th><th>int64</th><th>float64</th><th>float64</th><th>float64</th><th>float64</th><th>float64</th><th>float64</th><th>float64</th><th>float64</th><th>float64</th><th>float64</th><th>int64</th><th>int64</th><th>bytes6</th></tr></thead>\n",
       "<tr><td>obj_0</td><td>1237661069265010799</td><td>17.61454</td><td>16.54622</td><td>16.07524</td><td>15.79065</td><td>15.65745</td><td>0.01579075</td><td>0.004027177</td><td>0.003700758</td><td>0.004209585</td><td>0.01195077</td><td>1991792035627034624</td><td>1237661069265010799</td><td>GALAXY</td></tr>\n",
       "</table></div>"
      ],
      "text/plain": [
       "<Table length=1>\n",
       "obj_id        objID        cModelMag_u ...       obj_id1        type \n",
       "bytes5        int64          float64   ...        int64        bytes6\n",
       "------ ------------------- ----------- ... ------------------- ------\n",
       " obj_0 1237661069265010799    17.61454 ... 1237661069265010799 GALAXY"
      ]
     },
     "execution_count": 3,
     "metadata": {},
     "output_type": "execute_result"
    }
   ],
   "source": [
    "cat"
   ]
  },
  {
   "cell_type": "code",
   "execution_count": 4,
   "id": "3aecf6b1-b400-4d16-be9c-b956abae9077",
   "metadata": {},
   "outputs": [],
   "source": [
    "from sedpy.observate import load_filters\n",
    "from prospect.utils.obsutils import fix_obs\n",
    "\n",
    "filters = load_filters([f\"sdss_{b}0\" for b in bands])\n",
    "maggies = np.array([10**(-0.4 * cat[0][f\"cModelMag_{b}\"]) for b in bands])\n",
    "magerr = np.array([cat[0][f\"cModelMagErr_{b}\"] for b in bands])\n",
    "magerr = np.clip(magerr, 0.05, np.inf)\n",
    "\n",
    "obs = dict(wavelength=None, spectrum=None, unc=None, redshift=0.04618024,\n",
    "           maggies=maggies, maggies_unc=magerr * maggies / 1.086, filters=filters)\n",
    "obs = fix_obs(obs)"
   ]
  },
  {
   "cell_type": "code",
   "execution_count": 5,
   "id": "02ee9957-5a5e-4d32-a880-aebfe6ff20a1",
   "metadata": {},
   "outputs": [
    {
     "name": "stdout",
     "output_type": "stream",
     "text": [
      ":::::::\n",
      "<class 'prospect.models.sedmodel.SpecModel'>\n",
      "\n",
      "Free Parameters: (name: prior) \n",
      "-----------\n",
      "  logzsol: <class 'prospect.models.priors.TopHat'>(mini=-2,maxi=0.19)\n",
      "  dust2: <class 'prospect.models.priors.TopHat'>(mini=0.0,maxi=4.0)\n",
      "  z_fraction: <class 'prospect.models.priors.Beta'>(mini=0.0,maxi=1.0,alpha=[5 4 3 2 1],beta=[1 1 1 1 1])\n",
      "  total_mass: <class 'prospect.models.priors.LogUniform'>(mini=100000000.0,maxi=1000000000000.0)\n",
      "  duste_umin: <class 'prospect.models.priors.TopHat'>(mini=0.1,maxi=25)\n",
      "  duste_qpah: <class 'prospect.models.priors.TopHat'>(mini=0.5,maxi=7.0)\n",
      "  duste_gamma: <class 'prospect.models.priors.LogUniform'>(mini=0.001,maxi=0.15)\n",
      "  fagn: <class 'prospect.models.priors.LogUniform'>(mini=1e-05,maxi=3.0)\n",
      "  agn_tau: <class 'prospect.models.priors.LogUniform'>(mini=5.0,maxi=150.0)\n",
      "  dust_ratio: <class 'prospect.models.priors.ClippedNormal'>(mean=1.0,sigma=0.3,mini=0.0,maxi=2.0)\n",
      "  dust_index: <class 'prospect.models.priors.TopHat'>(mini=-2.0,maxi=0.5)\n",
      "\n",
      "Fixed Parameters: (name: value [, depends_on]) \n",
      "-----------\n",
      "  zred: [0.04618024] \n",
      "  mass: [1.] <function zfrac_to_masses at 0x7f36de8a9e10>\n",
      "  sfh: [3] \n",
      "  imf_type: [2] \n",
      "  dust_type: [4] \n",
      "  agebins: [[ 0.          8.        ]\n",
      " [ 8.          8.47712125]\n",
      " [ 8.47712125  9.        ]\n",
      " [ 9.          9.47712125]\n",
      " [ 9.47712125  9.77815125]\n",
      " [ 9.77815125 10.13353891]] \n",
      "  add_dust_emission: [ True] \n",
      "  add_neb_emission: [ True] \n",
      "  add_neb_continuum: [ True] \n",
      "  nebemlineinspec: [ True] \n",
      "  gas_logz: [0.] <function stellar_logzsol at 0x7f367ea4b7f0>\n",
      "  gas_logu: [-2.] \n",
      "  add_agn_dust: [ True] \n",
      "  dust1: [0.] <function dustratio_to_dust1 at 0x7f36de8a9990>\n"
     ]
    }
   ],
   "source": [
    "from prospect.models.templates import TemplateLibrary\n",
    "from prospect.models import SpecModel\n",
    "model_params = TemplateLibrary[\"alpha\"]\n",
    "model_params.update(TemplateLibrary[\"nebular\"])\n",
    "model_params[\"zred\"][\"init\"] = obs[\"redshift\"]\n",
    "\n",
    "model = SpecModel(model_params)\n",
    "assert len(model.free_params) == 11\n",
    "print(model)"
   ]
  },
  {
   "cell_type": "code",
   "execution_count": 6,
   "id": "1efa7adc-5776-4bf4-9f02-ebaf678afd8e",
   "metadata": {},
   "outputs": [],
   "source": [
    "noise_model = (None,None)"
   ]
  },
  {
   "cell_type": "code",
   "execution_count": 7,
   "id": "8d384c8b-32c5-414c-8706-2ca50f5bb1cf",
   "metadata": {},
   "outputs": [
    {
     "name": "stdout",
     "output_type": "stream",
     "text": [
      "(b'mist', b'miles', b'DL07  ')\n"
     ]
    }
   ],
   "source": [
    "from prospect.sources import CSPSpecBasis\n",
    "sps = CSPSpecBasis(zcontinuous=1)\n",
    "print(sps.ssp.libraries)"
   ]
  },
  {
   "cell_type": "code",
   "execution_count": 10,
   "id": "dc1dec82-44a2-4ed5-834a-79598a2e4bad",
   "metadata": {},
   "outputs": [
    {
     "name": "stdout",
     "output_type": "stream",
     "text": [
      "logzsol=-0.5,dust2=0.6,z_fraction=0.8333333333333334,total_mass=0.8,duste_umin=0.75,duste_qpah=0.6666666666666666,duste_gamma=0.5,fagn=10000000000.0,agn_tau=1.0,dust_ratio=4.0,dust_index=0.001\n",
      "[-5.00000000e-01  6.00000000e-01  8.33333333e-01  8.00000000e-01\n",
      "  7.50000000e-01  6.66666667e-01  5.00000000e-01  1.00000000e+10\n",
      "  1.00000000e+00  4.00000000e+00  1.00000000e-03  1.00000000e-04\n",
      "  5.00000000e+00  1.00000000e+00  0.00000000e+00]\n"
     ]
    }
   ],
   "source": [
    "current_parameters = \",\".join([f\"{p}={v}\" for p, v in zip(model.free_params, model.theta)])\n",
    "print(current_parameters)\n",
    "#print(model.theta)\n",
    "#Crashing Kernal\n",
    "#spec, phot, mfrac =model.predict(model.theta, obs=obs, sps=sps)\n",
    "#print(phot / obs[\"maggies\"])"
   ]
  },
  {
   "cell_type": "code",
   "execution_count": null,
   "id": "74711906-6a66-496a-a5d5-2d170d2baa7e",
   "metadata": {},
   "outputs": [],
   "source": [
    "from prospect.fitting import lnprobfn, fit_model\n",
    "fitting_kwargs = dict(nlive_init=400, nested_method=\"rwalk\", nested_target_n_effective=1000, nested_dlogz_init=0.05)\n",
    "output = fit_model(obs, model, sps, optimize=False, dynesty=False, emcee=True,lnprobfn=lnprobfn, noise=noise_model, **fitting_kwargs)\n",
    "result, duration = output[\"sampling\"]\n"
   ]
  },
  {
   "cell_type": "code",
   "execution_count": null,
   "id": "f9e65458-02b9-435e-ba37-c6a6ad4cb3fd",
   "metadata": {},
   "outputs": [],
   "source": [
    "from prospect.io import write_results as writer\n",
    "hfile = \"./quickstart_dynesty_mcmc.h5\"\n",
    "writer.write_hdf5(hfile, {}, model, obs,\n",
    "                 output[\"sampling\"][0], None,\n",
    "                 sps=sps,\n",
    "                 tsample=output[\"sampling\"][1],\n",
    "                 toptimize=0.0)"
   ]
  }
 ],
 "metadata": {
  "kernelspec": {
   "display_name": "Python 3 (ipykernel)",
   "language": "python",
   "name": "python3"
  },
  "language_info": {
   "codemirror_mode": {
    "name": "ipython",
    "version": 3
   },
   "file_extension": ".py",
   "mimetype": "text/x-python",
   "name": "python",
   "nbconvert_exporter": "python",
   "pygments_lexer": "ipython3",
   "version": "3.10.0"
  }
 },
 "nbformat": 4,
 "nbformat_minor": 5
}
