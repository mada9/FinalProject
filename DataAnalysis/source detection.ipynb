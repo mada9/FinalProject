{
 "cells": [
  {
   "cell_type": "markdown",
   "metadata": {},
   "source": [
    "# Source detection\n",
    "\n",
    "In this first tutorial we are going to learn the power of source detection.\n",
    "Source detection allow us to automatically identify all the stars detected in our image, being able to calculate accurately their location in detector physical units and estimate their brightness.\n",
    "\n",
    "When do we want to do this?\n",
    "\n",
    "1.- To see what stars you have detected in a field compared to a catalogue to identify a new transient\n",
    "\n",
    "2.- To know the position of different stars\n",
    "\n",
    "This second option is very powerful if you have hundreds of images to analyse.\n",
    "\n",
    "Astrometry is the method with which we can measure the RA and Dec of each star. We have a tool called Astrometry.net that allow us to put any field to it and it will identify it and safe the real coordinates. Under linux it is possible to install it and run a script to do astrometry in hundreds of images (it just take a while). However, their webtool can only do one image at a time.\n",
    "\n",
    "This is where source detection becomes very useful!\n",
    "Let's see how it works."
   ]
  },
  {
   "cell_type": "code",
   "execution_count": 1,
   "metadata": {},
   "outputs": [],
   "source": [
    "%matplotlib inline\n",
    "from astropy.stats import sigma_clipped_stats\n",
    "from photutils import DAOStarFinder, CircularAperture\n",
    "import astropy.io.fits as pf\n",
    "import numpy as np\n",
    "from astropy.visualization import SqrtStretch\n",
    "from astropy.visualization.mpl_normalize import ImageNormalize\n",
    "from matplotlib import pyplot as plt"
   ]
  },
  {
   "cell_type": "code",
   "execution_count": 2,
   "metadata": {},
   "outputs": [],
   "source": [
    "filename = 'rfinalMCT21_1803120162.fits'\n",
    "image = pf.getdata(filename)"
   ]
  },
  {
   "cell_type": "markdown",
   "metadata": {},
   "source": [
    "### Sigma clipping\n",
    "\n",
    "Now that we have loaded our image, let's estimage the background and background noise using sigma-clipping\n",
    "\n",
    "Sigma-clipping is a techinique on which we estimate the mean and median counts for the whole image, we then ignore anything above a certain sigma and recalculate the mean and median.\n",
    "\n",
    "In order words, the function finds the average number of counts in the whole image and \"throws away\" everything higher than X sigma-level assuming that those \"bright\" pixels are likely stars"
   ]
  },
  {
   "cell_type": "code",
   "execution_count": 3,
   "metadata": {},
   "outputs": [
    {
     "name": "stdout",
     "output_type": "stream",
     "text": [
      "Mean: 612.2649296241141\n",
      "Median: 612.2107430375862\n",
      "Standard deviation: 14.493256726366111\n"
     ]
    }
   ],
   "source": [
    "mean, median, std = sigma_clipped_stats(image, sigma=3.0)\n",
    "print(\"Mean:\", mean)\n",
    "print(\"Median:\", median)\n",
    "print(\"Standard deviation:\", std)"
   ]
  },
  {
   "cell_type": "code",
   "execution_count": 4,
   "metadata": {},
   "outputs": [
    {
     "name": "stdout",
     "output_type": "stream",
     "text": [
      "Mean: 612.5109966894424\n",
      "Median: 612.2899229922482\n",
      "Standard deviation: 15.195166537799555\n"
     ]
    }
   ],
   "source": [
    "mean, median, std = sigma_clipped_stats(image, sigma=5.0)\n",
    "print(\"Mean:\", mean)\n",
    "print(\"Median:\", median)\n",
    "print(\"Standard deviation:\", std)"
   ]
  },
  {
   "cell_type": "code",
   "execution_count": 5,
   "metadata": {},
   "outputs": [
    {
     "name": "stdout",
     "output_type": "stream",
     "text": [
      "Mean: 612.8462489609403\n",
      "Median: 612.344935106209\n",
      "Standard deviation: 16.665722954675317\n"
     ]
    }
   ],
   "source": [
    "mean, median, std = sigma_clipped_stats(image, sigma=10.0)\n",
    "print(\"Mean:\", mean)\n",
    "print(\"Median:\", median)\n",
    "print(\"Standard deviation:\", std)"
   ]
  },
  {
   "cell_type": "markdown",
   "metadata": {},
   "source": [
    "After running sigma clipping for sigma=3, 5 and 10. Open the image using Ginga (python package) or DS9 (stand alone app) and try to estimate the background yourself.\n",
    "\n",
    "Which one do you think is closer to reality?\n",
    "\n",
    "##### Note that this step is very important for the rest since it will be defining what your background is and what is not\n",
    "\n",
    "Overestimating the background might make you lose faint sources (possible new ones), but underestimating it might make you believe that you have things that are not real."
   ]
  },
  {
   "cell_type": "markdown",
   "metadata": {},
   "source": [
    "### Finding sources\n",
    "\n",
    "It's time to find those stars.\n",
    "For this we will be using the DAOStarFinder module in photutils.\n",
    "\n",
    "Note that it requires two parameters:\n",
    "\n",
    "1.- fwhm: the size of the stars in your images\n",
    "2.- threshold: the minimum number of counts in units of sigmas above background that you are happy to say: \"that's a star\"\n",
    "\n",
    "In reality, when doing photometry, you will want to properly measure your fwhm to know the most effective apperture to maximise your signal-to-noise. - we will do this in another session.\n",
    "\n",
    "When doing the source detection step, we don't need that level of precission since we are not going to base our photometry on any estimate that source detection give us.\n",
    "\n",
    "Of course, if we are going to use it (e.g. if we are doing a project in clusters), then we might want to do a proper measurement of fwhm as well.\n",
    "\n",
    "The fwhm depends on how good/bad the seeing was while taking that image. A bad seeing means a star that spreads over more pixels and thus larger fwhm.\n",
    "\n",
    "Let's play with the numbers a little bit."
   ]
  },
  {
   "cell_type": "code",
   "execution_count": 6,
   "metadata": {},
   "outputs": [
    {
     "name": "stdout",
     "output_type": "stream",
     "text": [
      "Number of sources detected 267\n",
      "\n",
      " id xcentroid ycentroid  sharpness  ... sky    peak      flux       mag     \n",
      "--- --------- ---------- ---------- ... --- --------- --------- ------------\n",
      "  1 988.57551 0.14934575 0.82943426 ...   0  255.8467 2.1805332  -0.84640675\n",
      "  2 494.82506 0.60664595   0.409463 ...   0 1719.8597 19.323861   -3.2152348\n",
      "  3 761.93854  2.7706731 0.37243667 ...   0 121.91508 1.3130616  -0.29571272\n",
      "  4 22.373359  4.0226155 0.56801331 ...   0 264.87585 2.4445345  -0.97049041\n",
      "  5 167.34879  5.4109974 0.50257729 ...   0 113.34987 1.0660902 -0.069484927\n",
      "  6 124.03924   6.101664 0.46863453 ...   0 162.71446 1.5721174  -0.49121242\n",
      "  7 762.46155  6.8453983 0.57852586 ...   0 215.86967 2.0585678  -0.78391292\n",
      "  8 639.63361  9.3993231 0.22999189 ...   0  76.91758 1.2397475  -0.23333314\n",
      "  9  49.84702  19.422926 0.54553838 ...   0 475.23273 4.0164413   -1.5096036\n",
      " 10  640.8977  33.113083 0.47871552 ...   0 72.292344 1.0430243 -0.045736043\n",
      "...       ...        ...        ... ... ...       ...       ...          ...\n",
      "257 718.64559  922.39023 0.48007214 ...   0   157.453 1.3722628  -0.34359325\n",
      "258 328.85686  925.17298 0.51819258 ...   0 2144.3765 19.211133   -3.2088825\n",
      "259 553.73307   927.8674 0.50909253 ...   0 251.14093   2.13971  -0.82588728\n",
      "260 229.93947  929.46397 0.47634391 ...   0 496.51959 4.5761168   -1.6512427\n",
      "261 928.72257  930.43562 0.47983977 ...   0 5241.4913 46.613418   -4.1712774\n",
      "262 827.17708  932.21863 0.57944925 ...   0 393.25073 3.3978178   -1.3280002\n",
      "263 540.73701  945.80633 0.44475733 ...   0  334.3388 3.1237076   -1.2366759\n",
      "264 663.33314  967.65711 0.33996327 ...   0 108.36527 1.1488813  -0.15068787\n",
      "265 837.29677  971.23657 0.53665311 ...   0 492.51167 4.2120563   -1.5612354\n",
      "266 40.710574  971.60172 0.49147607 ...   0 462.44843 4.7186092    -1.684535\n",
      "267 459.12493  972.57594 0.69299554 ...   0  424.6943 3.7865571   -1.4456113\n",
      "Length = 267 rows\n"
     ]
    }
   ],
   "source": [
    "daofind = DAOStarFinder(fwhm=3.0, threshold=5.*std) \n",
    "sources = daofind(image - median)\n",
    "for col in sources.colnames: \n",
    "    sources[col].info.format = '%.8g'\n",
    "\n",
    "print(\"Number of sources detected\", len(sources))\n",
    "print()\n",
    "print(sources) "
   ]
  },
  {
   "cell_type": "code",
   "execution_count": 9,
   "metadata": {},
   "outputs": [
    {
     "name": "stdout",
     "output_type": "stream",
     "text": [
      "xcentroid\n",
      "---------\n",
      "988.57551\n",
      "494.82506\n",
      "761.93854\n",
      "22.373359\n",
      "167.34879\n",
      "124.03924\n",
      "762.46155\n",
      "639.63361\n",
      " 49.84702\n",
      " 640.8977\n",
      "      ...\n",
      "718.64559\n",
      "328.85686\n",
      "553.73307\n",
      "229.93947\n",
      "928.72257\n",
      "827.17708\n",
      "540.73701\n",
      "663.33314\n",
      "837.29677\n",
      "40.710574\n",
      "459.12493\n",
      "Length = 267 rows\n"
     ]
    }
   ],
   "source": [
    "print(sources['xcentroid'])"
   ]
  },
  {
   "cell_type": "markdown",
   "metadata": {},
   "source": [
    "See what happens with the number of sources detected when you change the fwhm to 1, 3, 5, 10, 20 and when you change the threshold to 3, 5, 10\n",
    "\n",
    "Which factor has a bigger impact on the number of detected sources?\n",
    "\n",
    "Try to identify the faintest source detected in the list and see if you can see it in the image using Ginga/DS9"
   ]
  },
  {
   "cell_type": "markdown",
   "metadata": {},
   "source": [
    "### Visualisation\n",
    "\n",
    "We can plot the image with all the sources detected in the previous step"
   ]
  },
  {
   "cell_type": "code",
   "execution_count": 20,
   "metadata": {},
   "outputs": [
    {
     "data": {
      "image/png": "[encoded data removed]",
      "text/plain": [
       "<Figure size 432x288 with 1 Axes>"
      ]
     },
     "metadata": {
      "needs_background": "light"
     },
     "output_type": "display_data"
    }
   ],
   "source": [
    "positions = np.transpose((sources['xcentroid'], sources['ycentroid']))\n",
    "apertures = CircularAperture(positions, r=4.) #choose a number large enough to go over the stars\n",
    "norm = ImageNormalize(stretch=SqrtStretch())\n",
    "plt.imshow(image, cmap='Greys', origin='lower', norm=norm, interpolation='nearest')\n",
    "apertures.plot(color='blue', lw=1.5, alpha=0.5)"
   ]
  },
  {
   "cell_type": "markdown",
   "metadata": {},
   "source": [
    "### Identifing your source and keeping track of it\n",
    "\n",
    "Normally telescopes have good tracking and the source(s) we want to study don't move much. But they can move a few pixels.\n",
    "\n",
    "Use one reference image and with Ginga/DS9 anotate the physical coordinates of your source (reference coords).\n",
    "\n",
    "Using the steps learned above, find your source(s) and adding a simple condition of +/-50 pixes in X and Y around your reference coordinates, remove all the other sources to make sure that only your source remains.\n",
    "\n",
    "Save the X, Y coordinates from source finder as the real final position of your source(s) for that image.\n",
    "\n",
    "You can use the same intial reference coordinates or the ones calculated from the previous image to keep track of the position of your source(s) throughout all your images"
   ]
  },
  {
   "cell_type": "code",
   "execution_count": null,
   "metadata": {},
   "outputs": [],
   "source": []
  },
  {
   "cell_type": "markdown",
   "metadata": {},
   "source": [
    "##### What would have happened if we would have had astrometry in all of our images?\n",
    "\n",
    "If we had astrometry done, then we could use astropy to convert the RA and Dec of the source(s) to pixel (or physical) units and we would not have had to do source detection to keep track of our source(s) througout our series of images."
   ]
  },
  {
   "cell_type": "code",
   "execution_count": null,
   "metadata": {},
   "outputs": [],
   "source": []
  }
 ],
 "metadata": {
  "kernelspec": {
   "display_name": "Python 3 (ipykernel)",
   "language": "python",
   "name": "python3"
  },
  "language_info": {
   "codemirror_mode": {
    "name": "ipython",
    "version": 3
   },
   "file_extension": ".py",
   "mimetype": "text/x-python",
   "name": "python",
   "nbconvert_exporter": "python",
   "pygments_lexer": "ipython3",
   "version": "3.10.0"
  }
 },
 "nbformat": 4,
 "nbformat_minor": 4
}
